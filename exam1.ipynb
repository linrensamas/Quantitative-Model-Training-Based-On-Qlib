{
 "cells": [
  {
   "cell_type": "code",
   "execution_count": null,
   "metadata": {},
   "outputs": [
    {
     "name": "stdout",
     "output_type": "stream",
     "text": [
      "e:\\PythonProject\\rich\n"
     ]
    },
    {
     "name": "stderr",
     "output_type": "stream",
     "text": [
      "2025-05-20 13:20:28.835 | INFO     | dump_bin:_get_all_date:273 - start get all date......\n",
      "100%|██████████| 4935/4935 [00:27<00:00, 176.82it/s]\n",
      "2025-05-20 13:20:56.750 | INFO     | dump_bin:_get_all_date:292 - end of get all date.\n",
      "\n",
      "2025-05-20 13:20:56.752 | INFO     | dump_bin:_dump_calendars:295 - start dump calendars......\n",
      "2025-05-20 13:20:56.756 | INFO     | dump_bin:_dump_calendars:298 - end of calendars dump.\n",
      "\n",
      "2025-05-20 13:20:56.756 | INFO     | dump_bin:_dump_instruments:301 - start dump instruments......\n",
      "2025-05-20 13:20:56.766 | INFO     | dump_bin:_dump_instruments:303 - end of instruments dump.\n",
      "\n",
      "2025-05-20 13:20:56.766 | INFO     | dump_bin:_dump_features:306 - start dump features......\n",
      "100%|██████████| 4935/4935 [00:32<00:00, 152.89it/s]\n",
      "2025-05-20 13:21:29.047 | INFO     | dump_bin:_dump_features:313 - end of features dump.\n",
      "\n"
     ]
    }
   ],
   "source": [
    "\"\"\" 下载数据集 \"\"\"\n",
    "import dataHandler\n",
    "\n",
    "dataHandler.download_data_from_baostock(start_date=\"2025-04-04\", end_date=\"2025-05-19\", adjustflag = \"1\")\n",
    "dataHandler.transform_csv_into_bin(\"2025-04-07~2025-05-19\")"
   ]
  },
  {
   "cell_type": "code",
   "execution_count": null,
   "metadata": {},
   "outputs": [],
   "source": [
    "\"\"\" 生成特征 \"\"\"\n",
    "import qlib\n",
    "from qlib import data\n",
    "from qlib.utils import init_instance_by_config\n",
    "\n",
    "# 数据集初始化\n",
    "qlib.init(provider_uri=\"E:/PythonProject/test/stock_data/qilb_cn_data_from_baostock/2024-04-10~2025-04-10\")\n",
    "stock_list = data.D.instruments(market = \"all\")\n",
    "\n",
    "\"\"\" 参数配置 \"\"\"\n",
    "# 数据处理器参数配置：整体数据开始结束时间，训练集开始结束时间，股票池\n",
    "data_handler_config = {\n",
    "    \"start_time\": \"2024-04-10\",\n",
    "    \"end_time\": \"2025-04-10\",\n",
    "    \"fit_start_time\": \"2024-04-10\",\n",
    "    \"fit_end_time\": \"2024-09-23\",\n",
    "    \"instruments\": stock_list\n",
    "}\n",
    "\n",
    "# 任务参数配置\n",
    "task = {\n",
    "    # 机器学习模型参数配置\n",
    "    \"model\": {\n",
    "        \"class\": \"LGBModel\", # 模型类\n",
    "        \"module_path\": \"qlib.contrib.model.gbdt\", # 模型类所在的模块\n",
    "        \"kwargs\": { # 模型类超参数配置，使用这些参数初始化上面使用的模型类对象\n",
    "            \"loss\": \"mse\",\n",
    "            \"colsample_bytree\": 0.8879,\n",
    "            \"learning_rate\": 0.0421,\n",
    "            \"subsample\": 0.8789,\n",
    "            \"lambda_l1\": 205.6999,\n",
    "            \"lambda_l2\": 580.9768,\n",
    "            \"max_depth\": 8,\n",
    "            \"num_leaves\": 210,\n",
    "            \"num_threads\": 20,\n",
    "        },\n",
    "    },\n",
    "    # 因子数据参数配置\n",
    "    \"dataset\": {\n",
    "        \"class\": \"DatasetH\", # 数据集类，是Dataset with Data(H)andler的缩写，即带数据处理器的数据集\n",
    "        \"module_path\": \"qlib.data.dataset\", # 数据集类所在的模块\n",
    "        \"kwargs\": { # 数据集类的参数配置\n",
    "            \"handler\": { # 数据集使用的数据处理器配置\n",
    "                \"class\": \"Alpha158\", # 数据处理器类，继承自DataHandlerLP，特征\n",
    "                \"module_path\": \"qlib.contrib.data.handler\", # 数据处理器类所在模块\n",
    "                \"kwargs\": data_handler_config, # 数据处理器参数配置\n",
    "            },\n",
    "            \"segments\": { # 数据集时段划分\n",
    "                \"train\": (\"2024-04-10\", \"2024-09-23\"), # 训练集时段\n",
    "                \"valid\": (\"2024-09-24\", \"2024-10-24\"), # 验证集时段\n",
    "                \"test\": (\"2024-10-25\", \"2025-04-10\"),  # 测试集时段\n",
    "            },\n",
    "        },\n",
    "    },\n",
    "}\n",
    "\n",
    "# 实例化模型对象\n",
    "model = init_instance_by_config(task[\"model\"])\n",
    "dataset = init_instance_by_config(task[\"dataset\"])"
   ]
  }
 ],
 "metadata": {
  "kernelspec": {
   "display_name": "Python 3",
   "language": "python",
   "name": "python3"
  },
  "language_info": {
   "codemirror_mode": {
    "name": "ipython",
    "version": 3
   },
   "file_extension": ".py",
   "mimetype": "text/x-python",
   "name": "python",
   "nbconvert_exporter": "python",
   "pygments_lexer": "ipython3",
   "version": "3.9.21"
  }
 },
 "nbformat": 4,
 "nbformat_minor": 2
}
