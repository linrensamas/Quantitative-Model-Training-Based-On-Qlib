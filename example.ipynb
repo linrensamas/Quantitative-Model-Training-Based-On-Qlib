{
 "cells": [
  {
   "cell_type": "code",
   "execution_count": null,
   "metadata": {},
   "outputs": [],
   "source": [
    "\"\"\" 下载数据集 \"\"\"\n",
    "import dataHandler\n",
    "\n",
    "dataHandler.download_data_from_baostock(start_date=\"2023-08-30\", end_date=\"2024-05-20\", adjustflag = \"1\")\n",
    "dataHandler.transform_csv_into_bin(\"2023-08-30~2024-05-20\")"
   ]
  },
  {
   "cell_type": "code",
   "execution_count": null,
   "metadata": {},
   "outputs": [],
   "source": [
    "\"\"\" 初始化参数 \"\"\"\n",
    "import qlib\n",
    "from qlib import data\n",
    "from qlib.utils import init_instance_by_config\n",
    "\n",
    "# 数据集初始化\n",
    "qlib.init(provider_uri = \"D:/PythonProject/rich/stock_data/qlib_cn_data_from_baostock/2023-08-30~2024-05-20\")\n",
    "stock_list = data.D.instruments(market = \"all\")\n",
    "\n",
    "# 数据处理器参数配置：整体数据开始结束时间，训练集开始结束时间，股票池\n",
    "data_handler_config = {\n",
    "    \"start_time\": \"2023-08-30\",\n",
    "    \"end_time\": \"2024-05-20\",\n",
    "    \"fit_start_time\": \"2023-08-30\",\n",
    "    \"fit_end_time\": \"2024-02-19\",\n",
    "    \"instruments\": stock_list\n",
    "}\n",
    "\n",
    "# 任务参数配置\n",
    "task = {\n",
    "    # 机器学习模型参数配置\n",
    "    \"model\": {\n",
    "        \"class\": \"LGBModel\", # 模型类\n",
    "        \"module_path\": \"qlib.contrib.model.gbdt\", # 模型类所在的模块\n",
    "        \"kwargs\": { # 模型类超参数配置，使用这些参数初始化上面使用的模型类对象\n",
    "            \"loss\": \"mse\",\n",
    "            \"colsample_bytree\": 0.8879,\n",
    "            \"learning_rate\": 0.0421,\n",
    "            \"subsample\": 0.8789,\n",
    "            \"lambda_l1\": 205.6999,\n",
    "            \"lambda_l2\": 580.9768,\n",
    "            \"max_depth\": 8,\n",
    "            \"num_leaves\": 210,\n",
    "            \"num_threads\": 20,\n",
    "        },\n",
    "    },\n",
    "    # 因子数据参数配置\n",
    "    \"dataset\": {\n",
    "        \"class\": \"DatasetH\", # 数据集类，是Dataset with Data(H)andler的缩写，即带数据处理器的数据集\n",
    "        \"module_path\": \"qlib.data.dataset\", # 数据集类所在的模块\n",
    "        \"kwargs\": { # 数据集类的参数配置\n",
    "            \"handler\": { # 数据集使用的数据处理器配置\n",
    "                \"class\": \"Alpha158\", # 数据处理器类，继承自DataHandlerLP，特征\n",
    "                \"module_path\": \"qlib.contrib.data.handler\", # 数据处理器类所在模块\n",
    "                \"kwargs\": data_handler_config, # 数据处理器参数配置\n",
    "            },\n",
    "            \"segments\": { # 数据集时段划分\n",
    "                \"train\": (\"2023-08-30\", \"2024-02-19\"), # 训练集时段\n",
    "                \"valid\": (\"2024-02-20\", \"2024-3-20\"), # 验证集时段\n",
    "                \"test\": (\"2024-3-21\", \"2024-05-20\"),  # 测试集时段\n",
    "            },\n",
    "        },\n",
    "    },\n",
    "}\n",
    "\n",
    "# 实例化模型对象\n",
    "model = init_instance_by_config(task[\"model\"])\n",
    "dataset = init_instance_by_config(task[\"dataset\"])"
   ]
  },
  {
   "cell_type": "code",
   "execution_count": null,
   "metadata": {},
   "outputs": [],
   "source": [
    "\"\"\" 执行训练模型 \"\"\"\n",
    "from qlib.workflow import R\n",
    "from qlib.utils import flatten_dict\n",
    "\n",
    "with R.start(experiment_name=\"train\"):\n",
    "    R.log_params(**flatten_dict(task))\n",
    "    model.fit(dataset)\n",
    "    R.save_objects(**{\"trained_model.pkl\": model})\n",
    "    print('info:', R.get_recorder().info)"
   ]
  }
 ],
 "metadata": {
  "kernelspec": {
   "display_name": "Python 3",
   "language": "python",
   "name": "python3"
  },
  "language_info": {
   "codemirror_mode": {
    "name": "ipython",
    "version": 3
   },
   "file_extension": ".py",
   "mimetype": "text/x-python",
   "name": "python",
   "nbconvert_exporter": "python",
   "pygments_lexer": "ipython3",
   "version": "3.9.22"
  }
 },
 "nbformat": 4,
 "nbformat_minor": 2
}
